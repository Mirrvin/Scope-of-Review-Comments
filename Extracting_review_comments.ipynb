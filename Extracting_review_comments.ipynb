{
 "cells": [
  {
   "cell_type": "markdown",
   "metadata": {},
   "source": [
    "# Master Thesis\n",
    "\n",
    "### Description"
   ]
  },
  {
   "cell_type": "markdown",
   "metadata": {},
   "source": [
    "# Github"
   ]
  },
  {
   "cell_type": "code",
   "execution_count": 10,
   "metadata": {},
   "outputs": [],
   "source": [
    "import requests\n",
    "from github import Github\n",
    "import getpass\n",
    "import time\n",
    "from IPython.display import clear_output, Markdown, display"
   ]
  },
  {
   "cell_type": "code",
   "execution_count": 11,
   "metadata": {},
   "outputs": [],
   "source": [
    "def get_file_url(comment):\n",
    "    sha = repo.get_commit(comment.commit_id).sha\n",
    "    file_url = repo.get_commit(sha).files.pop().raw_url\n",
    "    return file_url\n",
    "    "
   ]
  },
  {
   "cell_type": "code",
   "execution_count": 12,
   "metadata": {},
   "outputs": [],
   "source": [
    "def display_file_content(file_url, comment_position):\n",
    "    stream = requests.get(file_url, stream=True)\n",
    "    i = 1\n",
    "    for line in stream.iter_lines():\n",
    "        if i == comment_position:\n",
    "            display(Markdown(str(i)+\" \"+str(line)[2:-1]))\n",
    "        elif (i >= comment_position - 20) and (i <= comment_position + 20): \n",
    "            print (str(i)+\" \"+str(line)[2:-1])\n",
    "        i=i+1"
   ]
  },
  {
   "cell_type": "code",
   "execution_count": 13,
   "metadata": {},
   "outputs": [],
   "source": [
    "def display_comment(comment, comment_position):\n",
    "    print(\"-------------------------------------------------------\")\n",
    "    print(\"Comment: \" + comment.body)\n",
    "    print(\"Assigned to line: \" + str(comment_position))\n"
   ]
  },
  {
   "cell_type": "code",
   "execution_count": 14,
   "metadata": {},
   "outputs": [],
   "source": [
    "def display_assigment(comment):\n",
    "    comment_position = comment.original_position\n",
    "    file_url = get_file_url(comment)\n",
    "    \n",
    "    print(file_url)\n",
    "    display_file_content(file_url, comment_position)\n",
    "    display_comment(comment, comment_position)"
   ]
  },
  {
   "cell_type": "code",
   "execution_count": 15,
   "metadata": {},
   "outputs": [],
   "source": [
    "def review_assignment(review_comments):\n",
    "    for comment in review_comments:\n",
    "        display_assigment(comment)\n",
    "        time.sleep(1)\n",
    "        assignment = input()\n",
    "        if assignment == \"quit\": \n",
    "            break\n",
    "        else:\n",
    "            clear_output(wait=True)"
   ]
  },
  {
   "cell_type": "code",
   "execution_count": 52,
   "metadata": {},
   "outputs": [
    {
     "data": {
      "application/javascript": [
       " IPython.OutputArea.prototype._should_scroll = function(lines) {\n",
       "     return false;\n",
       " }\n"
      ],
      "text/plain": [
       "<IPython.core.display.Javascript object>"
      ]
     },
     "metadata": {},
     "output_type": "display_data"
    }
   ],
   "source": [
    "%%javascript\n",
    " IPython.OutputArea.prototype._should_scroll = function(lines) {\n",
    "     return false;\n",
    " }"
   ]
  },
  {
   "cell_type": "markdown",
   "metadata": {},
   "source": [
    "## Log into your GitHub account\n",
    "by inputing your credentials"
   ]
  },
  {
   "cell_type": "code",
   "execution_count": 16,
   "metadata": {},
   "outputs": [
    {
     "name": "stdout",
     "output_type": "stream",
     "text": [
      "Mirrvin\n",
      "········\n"
     ]
    }
   ],
   "source": [
    "log = input()\n",
    "pwd = getpass.getpass()"
   ]
  },
  {
   "cell_type": "markdown",
   "metadata": {},
   "source": [
    "or providing a file with credentails in format \"login,password\". \n",
    "\n",
    "Name the file \"credentials.txt\"."
   ]
  },
  {
   "cell_type": "code",
   "execution_count": 7,
   "metadata": {},
   "outputs": [],
   "source": [
    "credentials_file = open('credentials.txt', 'r')\n",
    "log, pwd = credentials_file.read().split(',')"
   ]
  },
  {
   "cell_type": "markdown",
   "metadata": {},
   "source": [
    "After providing credentials run the cells bellow to start reviewing Comments and their assigments."
   ]
  },
  {
   "cell_type": "code",
   "execution_count": 17,
   "metadata": {},
   "outputs": [],
   "source": [
    "g = Github(log,pwd)\n",
    "repo = g.get_repo(\"ReactiveX/RxJava\")\n",
    "review_comments = repo.get_pulls_review_comments()"
   ]
  },
  {
   "cell_type": "markdown",
   "metadata": {},
   "source": [
    "Na ten moment input niczego nie zmienia, ale chciałbym, żeby docelowo zapisywał czy komentarz jest dobrze przypięty, czy nie\n",
    "\n",
    "aby przerwać należy wpisać \"quit\""
   ]
  },
  {
   "cell_type": "code",
   "execution_count": null,
   "metadata": {},
   "outputs": [
    {
     "name": "stdout",
     "output_type": "stream",
     "text": [
      "https://github.com/ReactiveX/RxJava/raw/f0869179e97f9ba8d683ef6b0132257259e54033/language-adaptors/rxjava-clojure/build.gradle\n",
      "1 buildscript {\n",
      "2     repositories { maven { url \"http://clojars.org/repo\" } }\n",
      "3     dependencies { classpath \"clojuresque:clojuresque:1.5.8\" }\n",
      "4 }\n",
      "5 \n",
      "6 apply plugin: 'clojure'\n",
      "7 \n",
      "8 repositories {\n",
      "9     clojarsRepo()\n",
      "10 }\n",
      "11 \n",
      "12 dependencies {\n",
      "13     compile 'org.clojure:clojure:1.4.+'\n",
      "14     examplesCompile 'clj-http:clj-http:0.6.4' // https://clojars.org/clj-http\n",
      "15 }\n",
      "16 \n",
      "17 aotCompile = true\n",
      "18 warnOnReflection = false\n",
      "19 \n",
      "20 eclipse {\n"
     ]
    },
    {
     "data": {
      "text/markdown": [
       "21   project {"
      ],
      "text/plain": [
       "<IPython.core.display.Markdown object>"
      ]
     },
     "metadata": {},
     "output_type": "display_data"
    },
    {
     "name": "stdout",
     "output_type": "stream",
     "text": [
      "22     natures \"ccw.nature\"\n",
      "23   }\n",
      "24 }\n",
      "-------------------------------------------------------\n",
      "Comment: I see, it's used in the examples only, fixing…\n",
      "\n",
      "Assigned to line: 21\n"
     ]
    }
   ],
   "source": [
    "review_assignment(review_comments)"
   ]
  },
  {
   "cell_type": "code",
   "execution_count": null,
   "metadata": {},
   "outputs": [],
   "source": []
  }
 ],
 "metadata": {
  "kernelspec": {
   "display_name": "Python 3",
   "language": "python",
   "name": "python3"
  },
  "language_info": {
   "codemirror_mode": {
    "name": "ipython",
    "version": 3
   },
   "file_extension": ".py",
   "mimetype": "text/x-python",
   "name": "python",
   "nbconvert_exporter": "python",
   "pygments_lexer": "ipython3",
   "version": "3.8.3"
  }
 },
 "nbformat": 4,
 "nbformat_minor": 4
}
