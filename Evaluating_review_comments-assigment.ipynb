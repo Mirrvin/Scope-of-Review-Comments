{
 "cells": [
  {
   "cell_type": "markdown",
   "metadata": {},
   "source": [
    "# Master Thesis\n",
    "\n",
    "### Description"
   ]
  },
  {
   "cell_type": "code",
   "execution_count": 1,
   "metadata": {},
   "outputs": [],
   "source": [
    "import time\n",
    "from IPython.display import clear_output, Markdown, display\n",
    "import json"
   ]
  },
  {
   "cell_type": "code",
   "execution_count": 2,
   "metadata": {},
   "outputs": [],
   "source": [
    "def bold_line_in_code_snippet(block_of_code, loc):\n",
    "    bolded = block_of_code.replace('\\n'+str(loc),'\\n\\033[1m\\033[91m'+str(loc))\n",
    "    bolded = bolded.replace('\\n'+str(loc+1),'\\n\\033[0m'+str(loc+1))\n",
    "    return bolded"
   ]
  },
  {
   "cell_type": "code",
   "execution_count": 3,
   "metadata": {},
   "outputs": [],
   "source": [
    "def display_comment_entry(comment_entry):\n",
    "    print(comment_entry['file_url'])\n",
    "    print(bold_line_in_code_snippet(comment_entry['block_of_code'],comment_entry['assigned_line']))\n",
    "    print(\"\\033[1m-------------------------------------------------------------------------------------------------------------\"+\n",
    "          \"\\nComment: \\033[0m\\n\")\n",
    "    print(\"\" + comment_entry['comment_body'])\n",
    "    print(\"\\033[1mAssigned to line: \\033[0m\" + str(comment_entry['assigned_line']))"
   ]
  },
  {
   "cell_type": "markdown",
   "metadata": {},
   "source": [
    "# Import data"
   ]
  },
  {
   "cell_type": "code",
   "execution_count": 4,
   "metadata": {},
   "outputs": [],
   "source": [
    "file_name = 'data_ReactiveX-RxJava.json'\n",
    "f = open(file_name)\n",
    "data = json.load(f)"
   ]
  },
  {
   "cell_type": "markdown",
   "metadata": {},
   "source": [
    "Na ten moment input niczego nie zmienia, ale chciałbym, żeby docelowo zapisywał czy komentarz jest dobrze przypięty, czy nie\n",
    "\n",
    "aby przerwać należy wpisać \"quit\""
   ]
  },
  {
   "cell_type": "code",
   "execution_count": null,
   "metadata": {},
   "outputs": [
    {
     "name": "stdout",
     "output_type": "stream",
     "text": [
      "https://github.com/ReactiveX/RxJava/raw/bfe74125e90ae24e90c4e2cd7e5576cfbad49823/src/main/java/rx/Observable.java\n",
      "10  * distributed on an \"AS IS\" BASIS, WITHOUT WARRANTIES OR CONDITIONS OF ANY KIND, either express or implied. See\n",
      "11  * the License for the specific language governing permissions and limitations under the License.\n",
      "12  */\n",
      "13 package rx;\n",
      "14 \n",
      "15 import java.util.*;\n",
      "16 import java.util.concurrent.*;\n",
      "17 \n",
      "18 import rx.annotations.*;\n",
      "19 import rx.exceptions.*;\n",
      "20 import rx.functions.*;\n",
      "21 import rx.internal.operators.*;\n",
      "22 import rx.internal.producers.SingleProducer;\n",
      "23 import rx.internal.util.*;\n",
      "24 import rx.observables.*;\n",
      "25 import rx.observers.SafeSubscriber;\n",
      "26 import rx.plugins.*;\n",
      "27 import rx.schedulers.*;\n",
      "28 import rx.subscriptions.Subscriptions;\n",
      "29 \n",
      "\u001b[1m\u001b[91m30 /**\n",
      "\u001b[0m31  * The Observable class that implements the Reactive Pattern.\n",
      "32  * <p>\n",
      "33  * This class provides methods for subscribing to the Observable as well as delegate methods to the various\n",
      "34  * Observers.\n",
      "35  * <p>\n",
      "36  * The documentation for this class makes use of marble diagrams. The following legend explains these diagrams:\n",
      "37  * <p>\n",
      "38  * <img width=\"640\" height=\"301\" src=\"https://raw.github.com/wiki/ReactiveX/RxJava/images/rx-operators/legend.png\" alt=\"\">\n",
      "39  * <p>\n",
      "40  * For more information see the <a href=\"http://reactivex.io/documentation/observable.html\">ReactiveX\n",
      "41  * documentation</a>.\n",
      "42  * \n",
      "43  * @param <T>\n",
      "44  *            the type of the items emitted by the Observable\n",
      "45  */\n",
      "46 public class Observable<T> {\n",
      "47 \n",
      "48     final OnSubscribe<T> onSubscribe;\n",
      "49 \n",
      "50     /**\n",
      "\n",
      "\u001b[1m-------------------------------------------------------------------------------------------------------------\n",
      "Comment: \u001b[0m\n",
      "\n",
      "My inclination would be to leave it plain, since we're deprecating the original name.\n",
      "\n",
      "It'd be great to see this rename carried into 2.x, or even see this form of the operator dropped altogether.\n",
      "\n",
      "\u001b[1mAssigned to line: \u001b[0m30\n"
     ]
    }
   ],
   "source": [
    "for comment_entry in data:\n",
    "    display_comment_entry(comment_entry)\n",
    "    time.sleep(1)\n",
    "    assignment = input()\n",
    "    if assignment == \"quit\": \n",
    "        break\n",
    "    else:\n",
    "        clear_output(wait=True)\n",
    "    comment_entry['assignment'] = assignment"
   ]
  },
  {
   "cell_type": "code",
   "execution_count": 5,
   "metadata": {},
   "outputs": [],
   "source": [
    "save_data('evaluated-' + file_name, data)"
   ]
  },
  {
   "cell_type": "code",
   "execution_count": null,
   "metadata": {},
   "outputs": [],
   "source": []
  },
  {
   "cell_type": "code",
   "execution_count": null,
   "metadata": {},
   "outputs": [],
   "source": []
  }
 ],
 "metadata": {
  "kernelspec": {
   "display_name": "Python 3",
   "language": "python",
   "name": "python3"
  },
  "language_info": {
   "codemirror_mode": {
    "name": "ipython",
    "version": 3
   },
   "file_extension": ".py",
   "mimetype": "text/x-python",
   "name": "python",
   "nbconvert_exporter": "python",
   "pygments_lexer": "ipython3",
   "version": "3.8.3"
  }
 },
 "nbformat": 4,
 "nbformat_minor": 4
}
