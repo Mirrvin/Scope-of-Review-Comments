{
 "cells": [
  {
   "cell_type": "markdown",
   "metadata": {},
   "source": [
    "# Master Thesis\n",
    "\n",
    "### Description"
   ]
  },
  {
   "cell_type": "code",
   "execution_count": 33,
   "metadata": {},
   "outputs": [],
   "source": [
    "import time\n",
    "from IPython.display import clear_output, Markdown, display\n",
    "import json"
   ]
  },
  {
   "cell_type": "code",
   "execution_count": 29,
   "metadata": {},
   "outputs": [],
   "source": [
    "def bold_line_in_code_snippet(block_of_code, loc):\n",
    "    bolded = block_of_code.replace('\\n'+str(loc),'\\n\\033[1m\\033[91m'+str(loc))\n",
    "    bolded = bolded.replace('\\n'+str(loc+1),'\\n\\033[0m'+str(loc+1))\n",
    "    return bolded"
   ]
  },
  {
   "cell_type": "code",
   "execution_count": 30,
   "metadata": {},
   "outputs": [],
   "source": [
    "def display_comment_entry(comment_entry):\n",
    "    print(comment_entry['file_url'])\n",
    "    print(bold_line_in_code_snippet(comment_entry['block_of_code'],comment_entry['assigned_line']))\n",
    "    print(\"\\033[1m-------------------------------------------------------------------------------------------------------------\"+\n",
    "          \"\\nComment: \\033[0m\\n\")\n",
    "    print(\"\" + comment_entry['comment_body'])\n",
    "    print(\"\\033[1mAssigned to line: \\033[0m\" + str(comment_entry['assigned_line']))"
   ]
  },
  {
   "cell_type": "markdown",
   "metadata": {},
   "source": [
    "# Import data"
   ]
  },
  {
   "cell_type": "code",
   "execution_count": 27,
   "metadata": {},
   "outputs": [],
   "source": [
    "file_name = 'data_ReactiveX-RxJava.json'\n",
    "f = open(file_name)\n",
    "data = json.load(f)"
   ]
  },
  {
   "cell_type": "markdown",
   "metadata": {},
   "source": [
    "Na ten moment input niczego nie zmienia, ale chciałbym, żeby docelowo zapisywał czy komentarz jest dobrze przypięty, czy nie\n",
    "\n",
    "aby przerwać należy wpisać \"quit\""
   ]
  },
  {
   "cell_type": "code",
   "execution_count": 37,
   "metadata": {},
   "outputs": [
    {
     "name": "stdout",
     "output_type": "stream",
     "text": [
      "https://github.com/ReactiveX/RxJava/raw/b6af321b38827f26639c127ddeb8d34b50f2b3c1/rxjava-core/src/main/java/rx/schedulers/CachedThreadScheduler.java\n",
      "8  * http://www.apache.org/licenses/LICENSE-2.0\n",
      "9  *\n",
      "10  * Unless required by applicable law or agreed to in writing, software\n",
      "11  * distributed under the License is distributed on an \"AS IS\" BASIS,\n",
      "12  * WITHOUT WARRANTIES OR CONDITIONS OF ANY KIND, either express or implied.\n",
      "13  * See the License for the specific language governing permissions and\n",
      "14  * limitations under the License.\n",
      "15  */\n",
      "16 package rx.schedulers;\n",
      "17 \n",
      "18 import rx.Scheduler;\n",
      "19 import rx.Subscription;\n",
      "20 import rx.functions.Action0;\n",
      "21 import rx.subscriptions.CompositeSubscription;\n",
      "22 import rx.subscriptions.Subscriptions;\n",
      "23 \n",
      "24 import java.util.Iterator;\n",
      "25 import java.util.concurrent.*;\n",
      "26 import java.util.concurrent.atomic.AtomicIntegerFieldUpdater;\n",
      "27 \n",
      "\u001b[1m\u001b[91m28 /* package */final class CachedThreadScheduler extends Scheduler {\n",
      "\u001b[0m29     private static final String WORKER_THREAD_NAME_PREFIX = \"RxCachedThreadScheduler-\";\n",
      "30     private static final NewThreadScheduler.RxThreadFactory WORKER_THREAD_FACTORY =\n",
      "31             new NewThreadScheduler.RxThreadFactory(WORKER_THREAD_NAME_PREFIX);\n",
      "32 \n",
      "33     private static final String EVICTOR_THREAD_NAME_PREFIX = \"RxCachedWorkerPoolEvictor-\";\n",
      "34     private static final NewThreadScheduler.RxThreadFactory EVICTOR_THREAD_FACTORY =\n",
      "35             new NewThreadScheduler.RxThreadFactory(EVICTOR_THREAD_NAME_PREFIX);\n",
      "36 \n",
      "37     private static final class CachedWorkerPool {\n",
      "38         private final long keepAliveTime;\n",
      "39         private final ConcurrentLinkedQueue<ThreadWorker> expiringWorkerQueue;\n",
      "40         private final ScheduledExecutorService evictExpiredWorkerExecutor;\n",
      "41 \n",
      "42         CachedWorkerPool(long keepAliveTime, TimeUnit unit) {\n",
      "43             this.keepAliveTime = unit.toNanos(keepAliveTime);\n",
      "44             this.expiringWorkerQueue = new ConcurrentLinkedQueue<ThreadWorker>();\n",
      "45 \n",
      "46             evictExpiredWorkerExecutor = Executors.newScheduledThreadPool(1, EVICTOR_THREAD_FACTORY);\n",
      "47             evictExpiredWorkerExecutor.scheduleWithFixedDelay(\n",
      "48                     new Runnable() {\n",
      "\n",
      "\u001b[1m-------------------------------------------------------------------------------------------------------------\n",
      "Comment: \u001b[0m\n",
      "\n",
      "Sure, wasn't sure how it should be, since there doesn't seem to be any standard to follow there. `ImmediateScheduler` is `final`, but not `EventLoopsScheduler` or `NewThreadScheduler`.\n",
      "\n",
      "\u001b[1mAssigned to line: \u001b[0m28\n",
      "quit\n"
     ]
    }
   ],
   "source": [
    "for comment_entry in data:\n",
    "    display_comment_entry(comment_entry)\n",
    "    time.sleep(1)\n",
    "    assignment = input()\n",
    "    if assignment == \"quit\": \n",
    "        break\n",
    "    else:\n",
    "        clear_output(wait=True)\n",
    "    comment_entry['assignment'] = assignment"
   ]
  },
  {
   "cell_type": "code",
   "execution_count": 5,
   "metadata": {},
   "outputs": [],
   "source": [
    "comment_entry = data[0]"
   ]
  },
  {
   "cell_type": "code",
   "execution_count": null,
   "metadata": {},
   "outputs": [],
   "source": []
  },
  {
   "cell_type": "code",
   "execution_count": null,
   "metadata": {},
   "outputs": [],
   "source": []
  }
 ],
 "metadata": {
  "kernelspec": {
   "display_name": "Python 3",
   "language": "python",
   "name": "python3"
  },
  "language_info": {
   "codemirror_mode": {
    "name": "ipython",
    "version": 3
   },
   "file_extension": ".py",
   "mimetype": "text/x-python",
   "name": "python",
   "nbconvert_exporter": "python",
   "pygments_lexer": "ipython3",
   "version": "3.8.3"
  }
 },
 "nbformat": 4,
 "nbformat_minor": 4
}
